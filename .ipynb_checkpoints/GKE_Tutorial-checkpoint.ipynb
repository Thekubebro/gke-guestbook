{
 "cells": [
  {
   "cell_type": "markdown",
   "metadata": {
    "colab_type": "text",
    "id": "uoCzVwNfUMQ9"
   },
   "source": [
    "# Google Kubernetes Engine Guestbook Tutorial\n",
    "\n",
    "by: Coleman Word\n",
    "\n",
    "https://console.cloud.google.com\n",
    "\n",
    "\n"
   ]
  },
  {
   "cell_type": "markdown",
   "metadata": {
    "colab_type": "text",
    "id": "ezXd22gKcd2Q"
   },
   "source": [
    "## Introduction\n"
   ]
  },
  {
   "cell_type": "markdown",
   "metadata": {
    "colab_type": "text",
    "id": "C-hg7s7lcb-w"
   },
   "source": [
    "This tutorial shows you how to create a Google Kubernetes Engine  cluster, and deploy a simple Guestbook application to the cluster. The multi-tier application you will deploy consists of a Redis  master, multiple Redis read replicas, and load-balanced web frontends."
   ]
  },
  {
   "cell_type": "markdown",
   "metadata": {
    "colab_type": "text",
    "id": "FsbH57RsZDoE"
   },
   "source": [
    "## Configure gcloud"
   ]
  },
  {
   "cell_type": "code",
   "execution_count": 0,
   "metadata": {
    "colab": {},
    "colab_type": "code",
    "id": "78V8Wz69ZT4K"
   },
   "outputs": [],
   "source": [
    "gcloud init --console-only"
   ]
  },
  {
   "cell_type": "markdown",
   "metadata": {
    "colab_type": "text",
    "id": "wzpPwsAXU8rW"
   },
   "source": [
    "## Clone Repository"
   ]
  },
  {
   "cell_type": "code",
   "execution_count": 0,
   "metadata": {
    "colab": {},
    "colab_type": "code",
    "id": "13oNh-xJU6kB"
   },
   "outputs": [],
   "source": [
    "TUTORIALDIR= ~/gke-tutorial"
   ]
  },
  {
   "cell_type": "code",
   "execution_count": 0,
   "metadata": {
    "colab": {},
    "colab_type": "code",
    "id": "NcYXlCxLUIgz"
   },
   "outputs": [],
   "source": [
    "git clone https://github.com/GoogleCloudPlatform/kubernetes-engine-samples.git $TUTORIALDIR"
   ]
  },
  {
   "cell_type": "code",
   "execution_count": 0,
   "metadata": {
    "colab": {},
    "colab_type": "code",
    "id": "LZedemdYVB3r"
   },
   "outputs": [],
   "source": [
    "cd $TUTORIALDIR"
   ]
  },
  {
   "cell_type": "markdown",
   "metadata": {
    "colab_type": "text",
    "id": "FbMMfKhVVcWQ"
   },
   "source": [
    "## Configuring your deployment\n"
   ]
  },
  {
   "cell_type": "code",
   "execution_count": 1,
   "metadata": {
    "colab": {},
    "colab_type": "code",
    "id": "gB-R8becVXi2"
   },
   "outputs": [
    {
     "name": "stdout",
     "output_type": "stream",
     "text": [
      "apiVersion: v1\r\n",
      "kind: ReplicationController\r\n",
      "metadata:\r\n",
      "  name: redis-master\r\n",
      "  # these labels can be applied automatically \r\n",
      "  # from the labels in the pod template if not set\r\n",
      "  labels:\r\n",
      "    app: redis\r\n",
      "    role: master\r\n",
      "    tier: backend\r\n",
      "spec:\r\n",
      "  # this replicas value is default\r\n",
      "  # modify it according to your case\r\n",
      "  replicas: 1\r\n",
      "  # selector can be applied automatically \r\n",
      "  # from the labels in the pod template if not set\r\n",
      "  # selector:\r\n",
      "  #   app: guestbook\r\n",
      "  #   role: master\r\n",
      "  #   tier: backend\r\n",
      "  template:\r\n",
      "    metadata:\r\n",
      "      labels:\r\n",
      "        app: redis\r\n",
      "        role: master\r\n",
      "        tier: backend\r\n",
      "    spec:\r\n",
      "      containers:\r\n",
      "      - name: master\r\n",
      "        image: gcr.io/google_containers/redis:e2e  # or just image: redis\r\n",
      "        resources:\r\n",
      "          requests:\r\n",
      "            cpu: 100m\r\n",
      "            memory: 100Mi\r\n",
      "        ports:\r\n",
      "        - containerPort: 6379\r\n"
     ]
    }
   ],
   "source": [
    "cat redis-master-controller.yaml"
   ]
  },
  {
   "cell_type": "markdown",
   "metadata": {
    "colab_type": "text",
    "id": "jeEl01vtVi7j"
   },
   "source": [
    "This file contains configuration to deploy a Redis master.\n",
    "\n"
   ]
  },
  {
   "cell_type": "markdown",
   "metadata": {
    "colab_type": "text",
    "id": "_pGdfTeOVj6M"
   },
   "source": [
    "### Kind"
   ]
  },
  {
   "cell_type": "markdown",
   "metadata": {
    "colab_type": "text",
    "id": "PIIr2g7bVqQs"
   },
   "source": [
    "Although we have a single instance of our redis master, we are using a Replication Controller to enforce that exactly one pod keeps running. E.g., if the node were to go down, the replication controller will ensure that the redis master gets restarted on a healthy node. (In our simplified example, this could result in data loss.)"
   ]
  },
  {
   "cell_type": "markdown",
   "metadata": {
    "colab_type": "text",
    "id": "kQvN77fUVrWY"
   },
   "source": [
    "### Metadata"
   ]
  },
  {
   "cell_type": "markdown",
   "metadata": {
    "colab_type": "text",
    "id": "ce2ZjkvhVuL_"
   },
   "source": [
    "The metadata: sections define labels to apply to the Replication Controller and related Pods. Labels are simple key-value pairs, which can be queried by other operations."
   ]
  },
  {
   "cell_type": "markdown",
   "metadata": {
    "colab_type": "text",
    "id": "ouhhbUtNVuZy"
   },
   "source": [
    "### Spec\n"
   ]
  },
  {
   "cell_type": "markdown",
   "metadata": {
    "colab_type": "text",
    "id": "Je03AR9CV2Aa"
   },
   "source": [
    "Here we define the Pod specification which the Replication Controller will use to create the Redis pod. The image: tag refers to a Docker image to be pulled from a registry."
   ]
  },
  {
   "cell_type": "markdown",
   "metadata": {
    "colab_type": "text",
    "id": "cZkCmZ3qV7-q"
   },
   "source": [
    "## Exploring Service"
   ]
  },
  {
   "cell_type": "code",
   "execution_count": 2,
   "metadata": {
    "colab": {},
    "colab_type": "code",
    "id": "qrEk6oLzV-yB"
   },
   "outputs": [
    {
     "name": "stdout",
     "output_type": "stream",
     "text": [
      "apiVersion: v1\r\n",
      "kind: Service\r\n",
      "metadata:\r\n",
      "  name: redis-master\r\n",
      "  labels:\r\n",
      "    app: redis\r\n",
      "    role: master\r\n",
      "    tier: backend\r\n",
      "spec:\r\n",
      "  ports:\r\n",
      "    # the port that this service should serve on\r\n",
      "  - port: 6379\r\n",
      "    targetPort: 6379\r\n",
      "  selector:\r\n",
      "    app: redis\r\n",
      "    role: master\r\n",
      "    tier: backend\r\n"
     ]
    }
   ],
   "source": [
    "cat redis-master-service.yaml"
   ]
  },
  {
   "cell_type": "markdown",
   "metadata": {
    "colab_type": "text",
    "id": "MbcufvhHWCeG"
   },
   "source": [
    "This file contains configuration to deploy a Service for the Redis master. A Kubernetes service is a named load balancer that proxies traffic to one or more containers. This is done using the labels metadata that we defined in the redis-master pod. As mentioned, we have only one Redis master, but we nevertheless want to create a service for it. Why? Because it gives us a deterministic way to route to the single master using an elastic IP.\n",
    "\n",
    "Services find the pods to load balance based on the pods' labels. The selector: field of the service description determines which pods will receive the traffic sent to the service, and the port: and targetPort: information defines what port the service proxy will run at."
   ]
  },
  {
   "cell_type": "markdown",
   "metadata": {
    "colab_type": "text",
    "id": "ZdpT5zroWRGg"
   },
   "source": [
    "## Deploy Redis Master"
   ]
  },
  {
   "cell_type": "markdown",
   "metadata": {},
   "source": [
    "## Create Cluster"
   ]
  },
  {
   "cell_type": "code",
   "execution_count": 3,
   "metadata": {},
   "outputs": [
    {
     "name": "stdout",
     "output_type": "stream",
     "text": [
      "\u001b[1;33mWARNING:\u001b[0m Currently node auto repairs are disabled by default. In the future this will change and they will be enabled by default. Use `--[no-]enable-autorepair` flag  to suppress this warning.\n",
      "\u001b[1;33mWARNING:\u001b[0m Starting in Kubernetes v1.10, new clusters will no longer get compute-rw and storage-ro scopes added to what is specified in --scopes (though the latter will remain included in the default --scopes). To use these scopes, add them explicitly to --scopes. To use the new behavior, set container/new_scopes_behavior property (gcloud config set container/new_scopes_behavior true).\n",
      "Creating cluster example-cluster...done.                                       \n",
      "Created [https://container.googleapis.com/v1/projects/hardkubes/zones/us-east1-b/clusters/example-cluster].\n",
      "To inspect the contents of your cluster, go to: https://console.cloud.google.com/kubernetes/workload_/gcloud/us-east1-b/example-cluster?project=hardkubes\n",
      "kubeconfig entry generated for example-cluster.\n",
      "NAME             LOCATION    MASTER_VERSION  MASTER_IP     MACHINE_TYPE   NODE_VERSION  NUM_NODES  STATUS\n",
      "example-cluster  us-east1-b  1.8.10-gke.0    35.237.91.66  n1-standard-1  1.8.10-gke.0  3          RUNNING\n"
     ]
    }
   ],
   "source": [
    "!gcloud container clusters create example-cluster"
   ]
  },
  {
   "cell_type": "markdown",
   "metadata": {
    "colab_type": "text",
    "id": "CUXEg8QrWY5D"
   },
   "source": [
    "### Setup Credentials"
   ]
  },
  {
   "cell_type": "code",
   "execution_count": 5,
   "metadata": {
    "colab": {},
    "colab_type": "code",
    "id": "_KZreTmSWTC_"
   },
   "outputs": [
    {
     "name": "stdout",
     "output_type": "stream",
     "text": [
      "Fetching cluster endpoint and auth data.\n",
      "kubeconfig entry generated for example-cluster.\n"
     ]
    }
   ],
   "source": [
    "!gcloud container clusters get-credentials example-cluster --zone us-east1-b"
   ]
  },
  {
   "cell_type": "markdown",
   "metadata": {
    "colab_type": "text",
    "id": "T6XKF_7lWUaG"
   },
   "source": [
    "### Create a Service"
   ]
  },
  {
   "cell_type": "code",
   "execution_count": 6,
   "metadata": {
    "colab": {},
    "colab_type": "code",
    "id": "wl8LWSGwWfYH"
   },
   "outputs": [
    {
     "name": "stdout",
     "output_type": "stream",
     "text": [
      "service \"redis-master\" created\r\n"
     ]
    }
   ],
   "source": [
    "!kubectl create -f redis-master-service.yaml"
   ]
  },
  {
   "cell_type": "markdown",
   "metadata": {
    "colab_type": "text",
    "id": "xWn8k-eqWj5i"
   },
   "source": [
    "### Create a Replication Controller"
   ]
  },
  {
   "cell_type": "code",
   "execution_count": 7,
   "metadata": {
    "colab": {},
    "colab_type": "code",
    "id": "m8gxx1WlWl5O"
   },
   "outputs": [
    {
     "name": "stdout",
     "output_type": "stream",
     "text": [
      "replicationcontroller \"redis-master\" created\r\n"
     ]
    }
   ],
   "source": [
    "!kubectl create -f redis-master-controller.yaml"
   ]
  },
  {
   "cell_type": "markdown",
   "metadata": {
    "colab_type": "text",
    "id": "F5nZWR0gWpQ3"
   },
   "source": [
    "### Inspect Your Cluster"
   ]
  },
  {
   "cell_type": "code",
   "execution_count": 8,
   "metadata": {
    "colab": {},
    "colab_type": "code",
    "id": "GTUi1GG8Wq8P"
   },
   "outputs": [
    {
     "name": "stdout",
     "output_type": "stream",
     "text": [
      "NAME                 READY     STATUS              RESTARTS   AGE\r\n",
      "redis-master-2z5hw   0/1       ContainerCreating   0          6s\r\n"
     ]
    }
   ],
   "source": [
    "!kubectl get pods"
   ]
  },
  {
   "cell_type": "code",
   "execution_count": 9,
   "metadata": {
    "colab": {},
    "colab_type": "code",
    "id": "kH8HiWSFWrEE"
   },
   "outputs": [
    {
     "name": "stdout",
     "output_type": "stream",
     "text": [
      "NAME           DESIRED   CURRENT   READY     AGE\r\n",
      "redis-master   1         1         0         11s\r\n"
     ]
    }
   ],
   "source": [
    "!kubectl get rc"
   ]
  },
  {
   "cell_type": "code",
   "execution_count": 10,
   "metadata": {
    "colab": {},
    "colab_type": "code",
    "id": "eTxS2uOXWrMY"
   },
   "outputs": [
    {
     "name": "stdout",
     "output_type": "stream",
     "text": [
      "NAME           TYPE        CLUSTER-IP      EXTERNAL-IP   PORT(S)    AGE\r\n",
      "kubernetes     ClusterIP   10.43.240.1     <none>        443/TCP    2m\r\n",
      "redis-master   ClusterIP   10.43.242.255   <none>        6379/TCP   22s\r\n"
     ]
    }
   ],
   "source": [
    "!kubectl get services"
   ]
  },
  {
   "cell_type": "markdown",
   "metadata": {
    "colab_type": "text",
    "id": "vzffxBtjbZmi"
   },
   "source": [
    "### Deploy the Redis Read Replicas"
   ]
  },
  {
   "cell_type": "markdown",
   "metadata": {
    "colab_type": "text",
    "id": "sWsvsLCibRXs"
   },
   "source": [
    "The Redis read replicas contain similar configuration in the guestbook/ directory. This time, we will use a single .yaml file to deploy both the Service and Replication Controller. The Replication Controller configuration contains replicas: 2 which will create 2 pods."
   ]
  },
  {
   "cell_type": "code",
   "execution_count": 13,
   "metadata": {},
   "outputs": [
    {
     "name": "stdout",
     "output_type": "stream",
     "text": [
      "replicationcontroller \"redis-slave\" created\r\n"
     ]
    }
   ],
   "source": [
    "!kubectl create -f redis-slave-controller.yaml"
   ]
  },
  {
   "cell_type": "code",
   "execution_count": 14,
   "metadata": {},
   "outputs": [
    {
     "name": "stdout",
     "output_type": "stream",
     "text": [
      "service \"redis-slave\" created\r\n"
     ]
    }
   ],
   "source": [
    "!kubectl create -f redis-slave-service.yaml"
   ]
  },
  {
   "cell_type": "code",
   "execution_count": 15,
   "metadata": {
    "colab": {},
    "colab_type": "code",
    "id": "4ei8SOETbgNU"
   },
   "outputs": [
    {
     "name": "stdout",
     "output_type": "stream",
     "text": [
      "NAME                 READY     STATUS    RESTARTS   AGE\r\n",
      "redis-master-2z5hw   1/1       Running   0          7m\r\n",
      "redis-slave-2mb8j    1/1       Running   0          31s\r\n",
      "redis-slave-9hrhs    1/1       Running   0          31s\r\n"
     ]
    }
   ],
   "source": [
    "!kubectl get pods"
   ]
  },
  {
   "cell_type": "code",
   "execution_count": 16,
   "metadata": {
    "colab": {},
    "colab_type": "code",
    "id": "LbSTRfTubiAU"
   },
   "outputs": [
    {
     "name": "stdout",
     "output_type": "stream",
     "text": [
      "NAME           DESIRED   CURRENT   READY     AGE\r\n",
      "redis-master   1         1         1         7m\r\n",
      "redis-slave    2         2         2         36s\r\n"
     ]
    }
   ],
   "source": [
    "!kubectl get rc"
   ]
  },
  {
   "cell_type": "code",
   "execution_count": 17,
   "metadata": {
    "colab": {},
    "colab_type": "code",
    "id": "ALBT1-11bk71"
   },
   "outputs": [
    {
     "name": "stdout",
     "output_type": "stream",
     "text": [
      "NAME           TYPE        CLUSTER-IP      EXTERNAL-IP   PORT(S)    AGE\r\n",
      "kubernetes     ClusterIP   10.43.240.1     <none>        443/TCP    9m\r\n",
      "redis-master   ClusterIP   10.43.242.255   <none>        6379/TCP   7m\r\n",
      "redis-slave    ClusterIP   10.43.247.219   <none>        6379/TCP   17s\r\n"
     ]
    }
   ],
   "source": [
    "!kubectl get services"
   ]
  },
  {
   "cell_type": "markdown",
   "metadata": {
    "colab_type": "text",
    "id": "Uo4IbliQb0Dn"
   },
   "source": [
    "### Deploy the Guestbook Frontend\n"
   ]
  },
  {
   "cell_type": "markdown",
   "metadata": {
    "colab_type": "text",
    "id": "_rVOYOJebxtC"
   },
   "source": [
    "A frontend pod is a simple PHP server that is configured to talk to either the slave or master services, depending on whether the client request is a read or a write. It exposes a simple AJAX interface, and serves an Angular-based UX. Again we'll create a set of replicated frontend pods instantiated by a replication controller— this time, with three replicas.\n",
    "\n",
    "As with the other pods, we now want to create a service to group the frontend pods. The RC and service are described in the file frontend.yaml.\n",
    "\n"
   ]
  },
  {
   "cell_type": "code",
   "execution_count": 18,
   "metadata": {
    "colab": {},
    "colab_type": "code",
    "id": "ZGKHb_ntb2ys"
   },
   "outputs": [
    {
     "name": "stdout",
     "output_type": "stream",
     "text": [
      "service \"frontend\" created\n",
      "replicationcontroller \"frontend\" created\n"
     ]
    }
   ],
   "source": [
    "!kubectl create -f all-in-one/frontend.yaml"
   ]
  },
  {
   "cell_type": "markdown",
   "metadata": {
    "colab_type": "text",
    "id": "cqSArtumcAiP"
   },
   "source": [
    "### Find External IP Address"
   ]
  },
  {
   "cell_type": "code",
   "execution_count": null,
   "metadata": {
    "colab": {},
    "colab_type": "code",
    "id": "CqENK40mb5AS"
   },
   "outputs": [
    {
     "name": "stdout",
     "output_type": "stream",
     "text": [
      "NAME           TYPE           CLUSTER-IP      EXTERNAL-IP   PORT(S)        AGE\n",
      "frontend       LoadBalancer   10.43.242.49    <pending>     80:31812/TCP   4s\n",
      "kubernetes     ClusterIP      10.43.240.1     <none>        443/TCP        10m\n",
      "redis-master   ClusterIP      10.43.242.255   <none>        6379/TCP       7m\n",
      "redis-slave    ClusterIP      10.43.247.219   <none>        6379/TCP       35s\n",
      "frontend   LoadBalancer   10.43.242.49   35.237.82.46   80:31812/TCP   51s\n"
     ]
    }
   ],
   "source": [
    "!kubectl get services --watch"
   ]
  },
  {
   "cell_type": "markdown",
   "metadata": {
    "colab_type": "text",
    "id": "MMHZXaRtcI2s"
   },
   "source": [
    "### Visit your running Guestbook app\n"
   ]
  },
  {
   "cell_type": "markdown",
   "metadata": {
    "colab_type": "text",
    "id": "hN35ckOHcEJN"
   },
   "source": [
    "Copy the IP in the External IP column.\n",
    "\n",
    "Open a new tab and visit your Guestbook app, by navigating to the IP."
   ]
  }
 ],
 "metadata": {
  "colab": {
   "collapsed_sections": [],
   "name": "GKE-Tutorial.ipynb",
   "provenance": [],
   "version": "0.3.2"
  },
  "kernelspec": {
   "display_name": "Python 3",
   "language": "python",
   "name": "python3"
  },
  "language_info": {
   "codemirror_mode": {
    "name": "ipython",
    "version": 3
   },
   "file_extension": ".py",
   "mimetype": "text/x-python",
   "name": "python",
   "nbconvert_exporter": "python",
   "pygments_lexer": "ipython3",
   "version": "3.6.5"
  }
 },
 "nbformat": 4,
 "nbformat_minor": 1
}
