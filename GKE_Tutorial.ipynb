{
  "nbformat": 4,
  "nbformat_minor": 0,
  "metadata": {
    "colab": {
      "name": "GKE-Tutorial.ipynb",
      "version": "0.3.2",
      "provenance": [],
      "collapsed_sections": []
    },
    "kernelspec": {
      "name": "python3",
      "display_name": "Python 3"
    }
  },
  "cells": [
    {
      "metadata": {
        "id": "uoCzVwNfUMQ9",
        "colab_type": "text"
      },
      "cell_type": "markdown",
      "source": [
        "# Google Kubernetes Engine Guestbook Tutorial\n",
        "\n",
        "by: Coleman Word\n",
        "\n",
        "https://console.cloud.google.com\n",
        "\n",
        "\n"
      ]
    },
    {
      "metadata": {
        "id": "FnIU_qMFchL5",
        "colab_type": "toc"
      },
      "cell_type": "markdown",
      "source": [
        ">[Google Kubernetes Engine Guestbook Tutorial](#updateTitle=true&folderId=1RmTu1U3Lw-zFE3Q8gU5mWTFP3Q95z77t&scrollTo=uoCzVwNfUMQ9)\n",
        "\n",
        ">>[Introduction](#updateTitle=true&folderId=1RmTu1U3Lw-zFE3Q8gU5mWTFP3Q95z77t&scrollTo=ezXd22gKcd2Q)\n",
        "\n",
        ">>[Configure gcloud](#updateTitle=true&folderId=1RmTu1U3Lw-zFE3Q8gU5mWTFP3Q95z77t&scrollTo=FsbH57RsZDoE)\n",
        "\n",
        ">>[Clone Repository](#updateTitle=true&folderId=1RmTu1U3Lw-zFE3Q8gU5mWTFP3Q95z77t&scrollTo=wzpPwsAXU8rW)\n",
        "\n",
        ">>[Configuring your deployment](#updateTitle=true&folderId=1RmTu1U3Lw-zFE3Q8gU5mWTFP3Q95z77t&scrollTo=FbMMfKhVVcWQ)\n",
        "\n",
        ">>>[Kind](#updateTitle=true&folderId=1RmTu1U3Lw-zFE3Q8gU5mWTFP3Q95z77t&scrollTo=_pGdfTeOVj6M)\n",
        "\n",
        ">>>[Metadata](#updateTitle=true&folderId=1RmTu1U3Lw-zFE3Q8gU5mWTFP3Q95z77t&scrollTo=kQvN77fUVrWY)\n",
        "\n",
        ">>>[Spec](#updateTitle=true&folderId=1RmTu1U3Lw-zFE3Q8gU5mWTFP3Q95z77t&scrollTo=ouhhbUtNVuZy)\n",
        "\n",
        ">>[Exploring Service](#updateTitle=true&folderId=1RmTu1U3Lw-zFE3Q8gU5mWTFP3Q95z77t&scrollTo=cZkCmZ3qV7-q)\n",
        "\n",
        ">>[Deploy Redis Master](#updateTitle=true&folderId=1RmTu1U3Lw-zFE3Q8gU5mWTFP3Q95z77t&scrollTo=ZdpT5zroWRGg)\n",
        "\n",
        ">>>[Setup Credentials](#updateTitle=true&folderId=1RmTu1U3Lw-zFE3Q8gU5mWTFP3Q95z77t&scrollTo=CUXEg8QrWY5D)\n",
        "\n",
        ">>>[Create a Service](#updateTitle=true&folderId=1RmTu1U3Lw-zFE3Q8gU5mWTFP3Q95z77t&scrollTo=T6XKF_7lWUaG)\n",
        "\n",
        ">>>[Create a Replication Controller](#updateTitle=true&folderId=1RmTu1U3Lw-zFE3Q8gU5mWTFP3Q95z77t&scrollTo=xWn8k-eqWj5i)\n",
        "\n",
        ">>>[Inspect Your Cluster](#updateTitle=true&folderId=1RmTu1U3Lw-zFE3Q8gU5mWTFP3Q95z77t&scrollTo=F5nZWR0gWpQ3)\n",
        "\n",
        ">>>[Deploy the Redis Read Replicas](#updateTitle=true&folderId=1RmTu1U3Lw-zFE3Q8gU5mWTFP3Q95z77t&scrollTo=vzffxBtjbZmi)\n",
        "\n",
        ">>>[Deploy the Guestbook Frontend](#updateTitle=true&folderId=1RmTu1U3Lw-zFE3Q8gU5mWTFP3Q95z77t&scrollTo=Uo4IbliQb0Dn)\n",
        "\n",
        ">>>[Find External IP Address](#updateTitle=true&folderId=1RmTu1U3Lw-zFE3Q8gU5mWTFP3Q95z77t&scrollTo=cqSArtumcAiP)\n",
        "\n",
        ">>>[Visit your running Guestbook app](#updateTitle=true&folderId=1RmTu1U3Lw-zFE3Q8gU5mWTFP3Q95z77t&scrollTo=MMHZXaRtcI2s)\n",
        "\n"
      ]
    },
    {
      "metadata": {
        "id": "ezXd22gKcd2Q",
        "colab_type": "text"
      },
      "cell_type": "markdown",
      "source": [
        "## Introduction\n"
      ]
    },
    {
      "metadata": {
        "id": "C-hg7s7lcb-w",
        "colab_type": "text"
      },
      "cell_type": "markdown",
      "source": [
        "This tutorial shows you how to create a Google Kubernetes Engine  cluster, and deploy a simple Guestbook application to the cluster. The multi-tier application you will deploy consists of a Redis  master, multiple Redis read replicas, and load-balanced web frontends."
      ]
    },
    {
      "metadata": {
        "id": "FsbH57RsZDoE",
        "colab_type": "text"
      },
      "cell_type": "markdown",
      "source": [
        "## Configure gcloud"
      ]
    },
    {
      "metadata": {
        "id": "78V8Wz69ZT4K",
        "colab_type": "code",
        "colab": {}
      },
      "cell_type": "code",
      "source": [
        "gcloud init --console-only"
      ],
      "execution_count": 0,
      "outputs": []
    },
    {
      "metadata": {
        "id": "wzpPwsAXU8rW",
        "colab_type": "text"
      },
      "cell_type": "markdown",
      "source": [
        "## Clone Repository"
      ]
    },
    {
      "metadata": {
        "id": "13oNh-xJU6kB",
        "colab_type": "code",
        "colab": {}
      },
      "cell_type": "code",
      "source": [
        "TUTORIALDIR=src/hardkubes/gke_guestbook-2018-06-19-17-10"
      ],
      "execution_count": 0,
      "outputs": []
    },
    {
      "metadata": {
        "id": "NcYXlCxLUIgz",
        "colab_type": "code",
        "colab": {}
      },
      "cell_type": "code",
      "source": [
        "git clone https://github.com/GoogleCloudPlatform/kubernetes-engine-samples.git $TUTORIALDIR"
      ],
      "execution_count": 0,
      "outputs": []
    },
    {
      "metadata": {
        "id": "LZedemdYVB3r",
        "colab_type": "code",
        "colab": {}
      },
      "cell_type": "code",
      "source": [
        "cd $TUTORIALDIR/guestbook"
      ],
      "execution_count": 0,
      "outputs": []
    },
    {
      "metadata": {
        "id": "FbMMfKhVVcWQ",
        "colab_type": "text"
      },
      "cell_type": "markdown",
      "source": [
        "## Configuring your deployment\n"
      ]
    },
    {
      "metadata": {
        "id": "gB-R8becVXi2",
        "colab_type": "code",
        "colab": {}
      },
      "cell_type": "code",
      "source": [
        "cat redis-master-controller.yaml"
      ],
      "execution_count": 0,
      "outputs": []
    },
    {
      "metadata": {
        "id": "jeEl01vtVi7j",
        "colab_type": "text"
      },
      "cell_type": "markdown",
      "source": [
        "This file contains configuration to deploy a Redis master.\n",
        "\n"
      ]
    },
    {
      "metadata": {
        "id": "_pGdfTeOVj6M",
        "colab_type": "text"
      },
      "cell_type": "markdown",
      "source": [
        "### Kind"
      ]
    },
    {
      "metadata": {
        "id": "PIIr2g7bVqQs",
        "colab_type": "text"
      },
      "cell_type": "markdown",
      "source": [
        "Although we have a single instance of our redis master, we are using a Replication Controller to enforce that exactly one pod keeps running. E.g., if the node were to go down, the replication controller will ensure that the redis master gets restarted on a healthy node. (In our simplified example, this could result in data loss.)"
      ]
    },
    {
      "metadata": {
        "id": "kQvN77fUVrWY",
        "colab_type": "text"
      },
      "cell_type": "markdown",
      "source": [
        "### Metadata"
      ]
    },
    {
      "metadata": {
        "id": "ce2ZjkvhVuL_",
        "colab_type": "text"
      },
      "cell_type": "markdown",
      "source": [
        "The metadata: sections define labels to apply to the Replication Controller and related Pods. Labels are simple key-value pairs, which can be queried by other operations."
      ]
    },
    {
      "metadata": {
        "id": "ouhhbUtNVuZy",
        "colab_type": "text"
      },
      "cell_type": "markdown",
      "source": [
        "### Spec\n"
      ]
    },
    {
      "metadata": {
        "id": "Je03AR9CV2Aa",
        "colab_type": "text"
      },
      "cell_type": "markdown",
      "source": [
        "Here we define the Pod specification which the Replication Controller will use to create the Redis pod. The image: tag refers to a Docker image to be pulled from a registry."
      ]
    },
    {
      "metadata": {
        "id": "cZkCmZ3qV7-q",
        "colab_type": "text"
      },
      "cell_type": "markdown",
      "source": [
        "## Exploring Service"
      ]
    },
    {
      "metadata": {
        "id": "qrEk6oLzV-yB",
        "colab_type": "code",
        "colab": {}
      },
      "cell_type": "code",
      "source": [
        "cat redis-master-service.yaml"
      ],
      "execution_count": 0,
      "outputs": []
    },
    {
      "metadata": {
        "id": "MbcufvhHWCeG",
        "colab_type": "text"
      },
      "cell_type": "markdown",
      "source": [
        "This file contains configuration to deploy a Service for the Redis master. A Kubernetes service is a named load balancer that proxies traffic to one or more containers. This is done using the labels metadata that we defined in the redis-master pod. As mentioned, we have only one Redis master, but we nevertheless want to create a service for it. Why? Because it gives us a deterministic way to route to the single master using an elastic IP.\n",
        "\n",
        "Services find the pods to load balance based on the pods' labels. The selector: field of the service description determines which pods will receive the traffic sent to the service, and the port: and targetPort: information defines what port the service proxy will run at."
      ]
    },
    {
      "metadata": {
        "id": "ZdpT5zroWRGg",
        "colab_type": "text"
      },
      "cell_type": "markdown",
      "source": [
        "## Deploy Redis Master"
      ]
    },
    {
      "metadata": {
        "id": "CUXEg8QrWY5D",
        "colab_type": "text"
      },
      "cell_type": "markdown",
      "source": [
        "### Setup Credentials"
      ]
    },
    {
      "metadata": {
        "id": "_KZreTmSWTC_",
        "colab_type": "code",
        "colab": {}
      },
      "cell_type": "code",
      "source": [
        "gcloud container clusters get-credentials cluster-1 --zone us-central1-a"
      ],
      "execution_count": 0,
      "outputs": []
    },
    {
      "metadata": {
        "id": "T6XKF_7lWUaG",
        "colab_type": "text"
      },
      "cell_type": "markdown",
      "source": [
        "### Create a Service"
      ]
    },
    {
      "metadata": {
        "id": "wl8LWSGwWfYH",
        "colab_type": "code",
        "colab": {}
      },
      "cell_type": "code",
      "source": [
        "kubectl create -f redis-master-service.yaml"
      ],
      "execution_count": 0,
      "outputs": []
    },
    {
      "metadata": {
        "id": "xWn8k-eqWj5i",
        "colab_type": "text"
      },
      "cell_type": "markdown",
      "source": [
        "### Create a Replication Controller"
      ]
    },
    {
      "metadata": {
        "id": "m8gxx1WlWl5O",
        "colab_type": "code",
        "colab": {}
      },
      "cell_type": "code",
      "source": [
        "kubectl create -f redis-master-controller.yaml"
      ],
      "execution_count": 0,
      "outputs": []
    },
    {
      "metadata": {
        "id": "F5nZWR0gWpQ3",
        "colab_type": "text"
      },
      "cell_type": "markdown",
      "source": [
        "### Inspect Your Cluster"
      ]
    },
    {
      "metadata": {
        "id": "GTUi1GG8Wq8P",
        "colab_type": "code",
        "colab": {}
      },
      "cell_type": "code",
      "source": [
        "kubectl get pods"
      ],
      "execution_count": 0,
      "outputs": []
    },
    {
      "metadata": {
        "id": "kH8HiWSFWrEE",
        "colab_type": "code",
        "colab": {}
      },
      "cell_type": "code",
      "source": [
        "kubectl get rc"
      ],
      "execution_count": 0,
      "outputs": []
    },
    {
      "metadata": {
        "id": "eTxS2uOXWrMY",
        "colab_type": "code",
        "colab": {}
      },
      "cell_type": "code",
      "source": [
        "kubectl get services"
      ],
      "execution_count": 0,
      "outputs": []
    },
    {
      "metadata": {
        "id": "vzffxBtjbZmi",
        "colab_type": "text"
      },
      "cell_type": "markdown",
      "source": [
        "### Deploy the Redis Read Replicas"
      ]
    },
    {
      "metadata": {
        "id": "sWsvsLCibRXs",
        "colab_type": "text"
      },
      "cell_type": "markdown",
      "source": [
        "The Redis read replicas contain similar configuration in the guestbook/ directory. This time, we will use a single .yaml file to deploy both the Service and Replication Controller. The Replication Controller configuration contains replicas: 2 which will create 2 pods."
      ]
    },
    {
      "metadata": {
        "id": "4ei8SOETbgNU",
        "colab_type": "code",
        "colab": {}
      },
      "cell_type": "code",
      "source": [
        "kubectl get pods"
      ],
      "execution_count": 0,
      "outputs": []
    },
    {
      "metadata": {
        "id": "LbSTRfTubiAU",
        "colab_type": "code",
        "colab": {}
      },
      "cell_type": "code",
      "source": [
        "kubectl get rc"
      ],
      "execution_count": 0,
      "outputs": []
    },
    {
      "metadata": {
        "id": "ALBT1-11bk71",
        "colab_type": "code",
        "colab": {}
      },
      "cell_type": "code",
      "source": [
        "kubectl get services"
      ],
      "execution_count": 0,
      "outputs": []
    },
    {
      "metadata": {
        "id": "Uo4IbliQb0Dn",
        "colab_type": "text"
      },
      "cell_type": "markdown",
      "source": [
        "### Deploy the Guestbook Frontend\n"
      ]
    },
    {
      "metadata": {
        "id": "_rVOYOJebxtC",
        "colab_type": "text"
      },
      "cell_type": "markdown",
      "source": [
        "A frontend pod is a simple PHP server that is configured to talk to either the slave or master services, depending on whether the client request is a read or a write. It exposes a simple AJAX interface, and serves an Angular-based UX. Again we'll create a set of replicated frontend pods instantiated by a replication controller— this time, with three replicas.\n",
        "\n",
        "As with the other pods, we now want to create a service to group the frontend pods. The RC and service are described in the file frontend.yaml.\n",
        "\n"
      ]
    },
    {
      "metadata": {
        "id": "ZGKHb_ntb2ys",
        "colab_type": "code",
        "colab": {}
      },
      "cell_type": "code",
      "source": [
        "kubectl create -f all-in-one/frontend.yaml"
      ],
      "execution_count": 0,
      "outputs": []
    },
    {
      "metadata": {
        "id": "cqSArtumcAiP",
        "colab_type": "text"
      },
      "cell_type": "markdown",
      "source": [
        "### Find External IP Address"
      ]
    },
    {
      "metadata": {
        "id": "CqENK40mb5AS",
        "colab_type": "code",
        "colab": {}
      },
      "cell_type": "code",
      "source": [
        "kubectl get services --watch"
      ],
      "execution_count": 0,
      "outputs": []
    },
    {
      "metadata": {
        "id": "MMHZXaRtcI2s",
        "colab_type": "text"
      },
      "cell_type": "markdown",
      "source": [
        "### Visit your running Guestbook app\n"
      ]
    },
    {
      "metadata": {
        "id": "hN35ckOHcEJN",
        "colab_type": "text"
      },
      "cell_type": "markdown",
      "source": [
        "Copy the IP in the External IP column.\n",
        "\n",
        "Open a new tab and visit your Guestbook app, by navigating to the IP."
      ]
    }
  ]
}